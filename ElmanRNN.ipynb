{
  "nbformat": 4,
  "nbformat_minor": 0,
  "metadata": {
    "colab": {
      "provenance": [],
      "authorship_tag": "ABX9TyMLWMsZUL003xfNVaMxLuoP",
      "include_colab_link": true
    },
    "kernelspec": {
      "name": "python3",
      "display_name": "Python 3"
    },
    "language_info": {
      "name": "python"
    }
  },
  "cells": [
    {
      "cell_type": "markdown",
      "metadata": {
        "id": "view-in-github",
        "colab_type": "text"
      },
      "source": [
        "<a href=\"https://colab.research.google.com/github/bhushanmandava/Google_Stock_Prediction_RNN-LSTM_Scratch-/blob/main/ElmanRNN.ipynb\" target=\"_parent\"><img src=\"https://colab.research.google.com/assets/colab-badge.svg\" alt=\"Open In Colab\"/></a>"
      ]
    },
    {
      "cell_type": "code",
      "execution_count": 1,
      "metadata": {
        "id": "YpKr--I8URve"
      },
      "outputs": [],
      "source": [
        "import torch\n",
        "import torch.nn as nn\n",
        "import torch.optim as optim"
      ]
    },
    {
      "cell_type": "code",
      "source": [
        "class elmanRNNUnit(nn.Module):\n",
        "  def __init__(self,embedding_dim):\n",
        "    super().__init__()\n",
        "    self.embedding_dim =embedding_dim\n",
        "    self.wh= nn.Parameter(torch.randn(self.embedding_dim,self.embedding_dim))\n",
        "    self.uh= nn.Parameter(torch.randn(self.embedding_dim,self.embedding_dim))#creating random weights for our input values adn hidden values\n",
        "    self.bh =nn.Parameter(torch.zeros(self.embedding_dim))#creating zero vec for biases\n",
        "  def forward(self,x,h):\n",
        "    return torch.tanh(x@self.wh+h@self.uh+self.bh)\n"
      ],
      "metadata": {
        "id": "g55HQ-LRUoHV"
      },
      "execution_count": 2,
      "outputs": []
    },
    {
      "cell_type": "code",
      "source": [
        "class elmanRNN(nn.Module):\n",
        "  def __init__(self,embedding_dim,n_layers):\n",
        "    super().__init__()\n",
        "    self.embedding_dim=embedding_dim\n",
        "    self.n_layers=n_layers\n",
        "    self.rnn_units = nn.ModuleList(\n",
        "        [elmanRNNUnit(embedding_dim) for _ in range(n_layers)]\n",
        "    )\n",
        "  def forward(self,x):\n",
        "    batch_size,seq_len,emb_dim=x.shape\n",
        "    h_perv =[\n",
        "        torch.zeros(batch_size,emb_dim)\n",
        "        for _ in range(self.n_layers)\n",
        "    ]\n",
        "    outp=[]\n",
        "    for t in range(seq_len):\n",
        "      x_t =x[:,t]\n",
        "      for l,r_unit in enumerate(self.rnn_units):\n",
        "        h_new= r_unit(x_t,h_perv[l])\n",
        "        h_perv[l]=h_new\n",
        "        x_t=h_new\n",
        "      outp.append(h_new)\n",
        "    return torch.stack(outp,dim=1)\n",
        ""
      ],
      "metadata": {
        "id": "J5f6Z6xwWZI6"
      },
      "execution_count": 3,
      "outputs": []
    },
    {
      "cell_type": "code",
      "source": [
        "embedding_dim = 10\n",
        "sequence_length = 5\n",
        "batch_size = 16\n",
        "num_classes = 2\n",
        "n_layers = 2\n",
        "epochs = 50\n",
        "\n",
        "\n",
        "X_train = torch.randn(batch_size, sequence_length, embedding_dim)\n",
        "y_train = (X_train.sum(dim=(1, 2)) > 0).long()\n",
        "\n",
        "model = elmanRNN(embedding_dim, n_layers)\n",
        "\n",
        "criterion = nn.CrossEntropyLoss()\n",
        "optimizer = optim.Adam(model.parameters(), lr=0.01)\n",
        "\n",
        "\n",
        "for epoch in range(epochs):\n",
        "    optimizer.zero_grad()\n",
        "    outputs = model(X_train)[:, -1, :]  # Take the last time step output\n",
        "    loss = criterion(outputs, y_train)\n",
        "    loss.backward()\n",
        "    optimizer.step()\n",
        "    if epoch % 10 == 0:\n",
        "        print(f\"Epoch [{epoch}/{epochs}], Loss: {loss.item():.4f}\")\n"
      ],
      "metadata": {
        "colab": {
          "base_uri": "https://localhost:8080/"
        },
        "id": "gzj2-pXhZLGn",
        "outputId": "53b554af-e90c-49c7-d6be-485fc3f4994b"
      },
      "execution_count": 5,
      "outputs": [
        {
          "output_type": "stream",
          "name": "stdout",
          "text": [
            "Epoch [0/50], Loss: 2.6531\n",
            "Epoch [10/50], Loss: 2.1329\n",
            "Epoch [20/50], Loss: 2.0422\n",
            "Epoch [30/50], Loss: 1.7944\n",
            "Epoch [40/50], Loss: 1.7227\n"
          ]
        }
      ]
    }
  ]
}